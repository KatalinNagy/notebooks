{
 "cells": [
  {
   "cell_type": "code",
   "execution_count": 1,
   "metadata": {},
   "outputs": [],
   "source": [
    "import scrapy ,csv\n",
    "from scrapy.crawler import CrawlerProcess\n",
    "from urllib.parse import urljoin\n",
    "\n",
    "class GetInfoSpider(scrapy.Spider):\n",
    "    name = \"infrarail\"\n",
    "    start_urls= ['http://www.kiesjestudie.nl/allehboopleidingen.html']\n",
    "    output = \"output5.csv\"\n",
    "\n",
    "    def __init__(self):\n",
    "        # empty outputfile\n",
    "        open(self.output, \"w\").close()\n",
    "        # alternative:\n",
    "        # if os.path.isfile(self.output):\n",
    "        #     os.remove(self.output)\n",
    "\n",
    "    def parse(self, response):  \n",
    "        links = response.css('li > a::attr(href)').extract_first()\n",
    "        #for l in links:\n",
    "            #base_url = 'http://www.kiesjestudie.nl/'\n",
    "            #url = urljoin(base_url, l)\n",
    "        yield response.follow(url = links, callback = self.parse_desc)\n",
    "      \n",
    "    def parse_desc( self, response ):\n",
    "        with open(self.output, \"a\", newline=\"\") as f:\n",
    "            writer = csv.writer(f)\n",
    "            title = response.css('a.block:not(a.lightlink)::attr(href)').extract()\n",
    "            for t in title:\n",
    "                writer.writerow([t])\n",
    "            yield {'Name': title}"
   ]
  },
  {
   "cell_type": "code",
   "execution_count": 2,
   "metadata": {},
   "outputs": [
    {
     "name": "stderr",
     "output_type": "stream",
     "text": [
      "2019-04-09 19:11:22 [scrapy.utils.log] INFO: Scrapy 1.5.1 started (bot: scrapybot)\n",
      "2019-04-09 19:11:22 [scrapy.utils.log] INFO: Versions: lxml 4.2.5.0, libxml2 2.9.8, cssselect 1.0.3, parsel 1.5.1, w3lib 1.19.0, Twisted 18.7.0, Python 3.7.0 (default, Jun 28 2018, 08:04:48) [MSC v.1912 64 bit (AMD64)], pyOpenSSL 18.0.0 (OpenSSL 1.0.2p  14 Aug 2018), cryptography 2.3.1, Platform Windows-10-10.0.17134-SP0\n",
      "2019-04-09 19:11:22 [scrapy.crawler] INFO: Overridden settings: {'USER_AGENT': 'Mozilla/5.0'}\n",
      "2019-04-09 19:11:22 [scrapy.middleware] INFO: Enabled extensions:\n",
      "['scrapy.extensions.corestats.CoreStats',\n",
      " 'scrapy.extensions.telnet.TelnetConsole',\n",
      " 'scrapy.extensions.logstats.LogStats']\n",
      "2019-04-09 19:11:22 [scrapy.middleware] INFO: Enabled downloader middlewares:\n",
      "['scrapy.downloadermiddlewares.httpauth.HttpAuthMiddleware',\n",
      " 'scrapy.downloadermiddlewares.downloadtimeout.DownloadTimeoutMiddleware',\n",
      " 'scrapy.downloadermiddlewares.defaultheaders.DefaultHeadersMiddleware',\n",
      " 'scrapy.downloadermiddlewares.useragent.UserAgentMiddleware',\n",
      " 'scrapy.downloadermiddlewares.retry.RetryMiddleware',\n",
      " 'scrapy.downloadermiddlewares.redirect.MetaRefreshMiddleware',\n",
      " 'scrapy.downloadermiddlewares.httpcompression.HttpCompressionMiddleware',\n",
      " 'scrapy.downloadermiddlewares.redirect.RedirectMiddleware',\n",
      " 'scrapy.downloadermiddlewares.cookies.CookiesMiddleware',\n",
      " 'scrapy.downloadermiddlewares.httpproxy.HttpProxyMiddleware',\n",
      " 'scrapy.downloadermiddlewares.stats.DownloaderStats']\n",
      "2019-04-09 19:11:23 [scrapy.middleware] INFO: Enabled spider middlewares:\n",
      "['scrapy.spidermiddlewares.httperror.HttpErrorMiddleware',\n",
      " 'scrapy.spidermiddlewares.offsite.OffsiteMiddleware',\n",
      " 'scrapy.spidermiddlewares.referer.RefererMiddleware',\n",
      " 'scrapy.spidermiddlewares.urllength.UrlLengthMiddleware',\n",
      " 'scrapy.spidermiddlewares.depth.DepthMiddleware']\n",
      "2019-04-09 19:11:23 [scrapy.middleware] INFO: Enabled item pipelines:\n",
      "[]\n",
      "2019-04-09 19:11:23 [scrapy.core.engine] INFO: Spider opened\n",
      "2019-04-09 19:11:23 [scrapy.extensions.logstats] INFO: Crawled 0 pages (at 0 pages/min), scraped 0 items (at 0 items/min)\n",
      "2019-04-09 19:11:23 [scrapy.extensions.telnet] DEBUG: Telnet console listening on 127.0.0.1:6023\n",
      "2019-04-09 19:11:23 [scrapy.core.engine] DEBUG: Crawled (200) <GET http://www.kiesjestudie.nl/allehboopleidingen.html> (referer: None)\n",
      "2019-04-09 19:11:23 [scrapy.core.engine] DEBUG: Crawled (200) <GET http://www.kiesjestudie.nl/opleiding34406-Accountancy.html> (referer: http://www.kiesjestudie.nl/allehboopleidingen.html)\n",
      "2019-04-09 19:11:23 [scrapy.core.scraper] DEBUG: Scraped from <200 http://www.kiesjestudie.nl/opleiding34406-Accountancy.html>\n",
      "{'Name': ['studie1133-Accountancy.html', 'studie1142-Accountancy.html', 'studie1134-Accountancy.html', 'studie3497-Accountancy.html', 'studie1135-Accountancy.html', 'studie1149-Accountancy.html', 'studie1143-Accountancy.html', 'studie1146-Accountancy.html', 'studie1145-Accountancy.html', 'studie1147-Accountancy.html', 'studie1151-Accountancy.html', 'studie1140-Accountancy.html', 'studie1141-Accountancy.html', 'studie1148-Accountancy.html', 'studie1136-Accountancy.html', 'studie3534-Accountancy.html', 'studie1900-Accountancy.html', 'studie1150-Accountancy.html', 'studie7026-Accountancy.html', 'studie3501-Accountancy.html']}\n",
      "2019-04-09 19:11:23 [scrapy.core.engine] INFO: Closing spider (finished)\n",
      "2019-04-09 19:11:23 [scrapy.statscollectors] INFO: Dumping Scrapy stats:\n",
      "{'downloader/request_bytes': 551,\n",
      " 'downloader/request_count': 2,\n",
      " 'downloader/request_method_count/GET': 2,\n",
      " 'downloader/response_bytes': 13982,\n",
      " 'downloader/response_count': 2,\n",
      " 'downloader/response_status_count/200': 2,\n",
      " 'finish_reason': 'finished',\n",
      " 'finish_time': datetime.datetime(2019, 4, 9, 17, 11, 23, 494275),\n",
      " 'item_scraped_count': 1,\n",
      " 'log_count/DEBUG': 4,\n",
      " 'log_count/INFO': 7,\n",
      " 'request_depth_max': 1,\n",
      " 'response_received_count': 2,\n",
      " 'scheduler/dequeued': 2,\n",
      " 'scheduler/dequeued/memory': 2,\n",
      " 'scheduler/enqueued': 2,\n",
      " 'scheduler/enqueued/memory': 2,\n",
      " 'start_time': datetime.datetime(2019, 4, 9, 17, 11, 23, 21996)}\n",
      "2019-04-09 19:11:23 [scrapy.core.engine] INFO: Spider closed (finished)\n"
     ]
    }
   ],
   "source": [
    "c = CrawlerProcess({\n",
    "    'USER_AGENT': 'Mozilla/5.0',   \n",
    "})\n",
    "c.crawl(GetInfoSpider)\n",
    "c.start()"
   ]
  },
  {
   "cell_type": "code",
   "execution_count": null,
   "metadata": {},
   "outputs": [],
   "source": []
  },
  {
   "cell_type": "code",
   "execution_count": null,
   "metadata": {},
   "outputs": [],
   "source": []
  }
 ],
 "metadata": {
  "kernelspec": {
   "display_name": "Python 3",
   "language": "python",
   "name": "python3"
  },
  "language_info": {
   "codemirror_mode": {
    "name": "ipython",
    "version": 3
   },
   "file_extension": ".py",
   "mimetype": "text/x-python",
   "name": "python",
   "nbconvert_exporter": "python",
   "pygments_lexer": "ipython3",
   "version": "3.7.0"
  }
 },
 "nbformat": 4,
 "nbformat_minor": 2
}
